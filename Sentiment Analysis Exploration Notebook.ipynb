{
 "cells": [
  {
   "cell_type": "code",
   "execution_count": 1,
   "id": "1e39a68b-7e8c-40aa-9a78-2da4be299f0c",
   "metadata": {},
   "outputs": [],
   "source": [
    "# 📊 Sentiment Analysis Exploration Notebook"
   ]
  },
  {
   "cell_type": "code",
   "execution_count": 2,
   "id": "9c3530cf-6805-4ee9-bab5-f23e10e7442e",
   "metadata": {},
   "outputs": [
    {
     "name": "stderr",
     "output_type": "stream",
     "text": [
      "Matplotlib is building the font cache; this may take a moment.\n"
     ]
    }
   ],
   "source": [
    "import pandas as pd\n",
    "import matplotlib.pyplot as plt\n",
    "import seaborn as sns"
   ]
  },
  {
   "cell_type": "code",
   "execution_count": 4,
   "id": "2c9cf603-69aa-4f6c-b097-8afa4d8070a3",
   "metadata": {},
   "outputs": [
    {
     "data": {
      "text/html": [
       "<div>\n",
       "<style scoped>\n",
       "    .dataframe tbody tr th:only-of-type {\n",
       "        vertical-align: middle;\n",
       "    }\n",
       "\n",
       "    .dataframe tbody tr th {\n",
       "        vertical-align: top;\n",
       "    }\n",
       "\n",
       "    .dataframe thead th {\n",
       "        text-align: right;\n",
       "    }\n",
       "</style>\n",
       "<table border=\"1\" class=\"dataframe\">\n",
       "  <thead>\n",
       "    <tr style=\"text-align: right;\">\n",
       "      <th></th>\n",
       "      <th>filename</th>\n",
       "      <th>overall_sentiment</th>\n",
       "      <th>polarity</th>\n",
       "      <th>subjectivity</th>\n",
       "      <th>highlighted_phrases</th>\n",
       "      <th>is_advertisement</th>\n",
       "      <th>advertisement_explanation</th>\n",
       "      <th>sentiment_explanation</th>\n",
       "    </tr>\n",
       "  </thead>\n",
       "  <tbody>\n",
       "    <tr>\n",
       "      <th>0</th>\n",
       "      <td>Samsung_Galaxy_S25-yWBz2qZJ8zY.txt</td>\n",
       "      <td>positive</td>\n",
       "      <td>0.50</td>\n",
       "      <td>0.6</td>\n",
       "      <td>ridiculously thin addition; pretty good phone;...</td>\n",
       "      <td>No</td>\n",
       "      <td>The transcript does not contain any explicit s...</td>\n",
       "      <td>The transcript expresses a generally positive ...</td>\n",
       "    </tr>\n",
       "    <tr>\n",
       "      <th>1</th>\n",
       "      <td>Apple_iPhone_16-h3BKjZMGoIw.txt</td>\n",
       "      <td>positive</td>\n",
       "      <td>0.50</td>\n",
       "      <td>0.6</td>\n",
       "      <td>finally have colors back; bigger batteries ins...</td>\n",
       "      <td>Yes</td>\n",
       "      <td>The transcript contains a clear sponsorship se...</td>\n",
       "      <td>The transcript expresses a generally positive ...</td>\n",
       "    </tr>\n",
       "    <tr>\n",
       "      <th>2</th>\n",
       "      <td>Google_Pixel_9_Pro-SUeQvl7IOV4.txt</td>\n",
       "      <td>positive</td>\n",
       "      <td>0.50</td>\n",
       "      <td>0.6</td>\n",
       "      <td>I'm really happy about; the same price; larges...</td>\n",
       "      <td>No</td>\n",
       "      <td>The transcript does not contain any explicit s...</td>\n",
       "      <td>The transcript expresses a generally positive ...</td>\n",
       "    </tr>\n",
       "    <tr>\n",
       "      <th>3</th>\n",
       "      <td>Google_Pixel_9_Pro_Fold-E76CUtSHMrU.txt</td>\n",
       "      <td>positive</td>\n",
       "      <td>0.85</td>\n",
       "      <td>0.7</td>\n",
       "      <td>really good use of space; one of the best in a...</td>\n",
       "      <td>No</td>\n",
       "      <td>The transcript does not contain any explicit s...</td>\n",
       "      <td>The transcript expresses a generally positive ...</td>\n",
       "    </tr>\n",
       "    <tr>\n",
       "      <th>4</th>\n",
       "      <td>iPhone_16_Pro_Max-vSIbvJB4WdI.txt</td>\n",
       "      <td>positive</td>\n",
       "      <td>0.70</td>\n",
       "      <td>0.8</td>\n",
       "      <td>best sounding audio; smokes the Samsung; massi...</td>\n",
       "      <td>Yes</td>\n",
       "      <td>The transcript explicitly mentions a sponsor, ...</td>\n",
       "      <td>The transcript contains a lot of positive comp...</td>\n",
       "    </tr>\n",
       "  </tbody>\n",
       "</table>\n",
       "</div>"
      ],
      "text/plain": [
       "                                  filename overall_sentiment  polarity  \\\n",
       "0       Samsung_Galaxy_S25-yWBz2qZJ8zY.txt          positive      0.50   \n",
       "1          Apple_iPhone_16-h3BKjZMGoIw.txt          positive      0.50   \n",
       "2       Google_Pixel_9_Pro-SUeQvl7IOV4.txt          positive      0.50   \n",
       "3  Google_Pixel_9_Pro_Fold-E76CUtSHMrU.txt          positive      0.85   \n",
       "4        iPhone_16_Pro_Max-vSIbvJB4WdI.txt          positive      0.70   \n",
       "\n",
       "   subjectivity                                highlighted_phrases  \\\n",
       "0           0.6  ridiculously thin addition; pretty good phone;...   \n",
       "1           0.6  finally have colors back; bigger batteries ins...   \n",
       "2           0.6  I'm really happy about; the same price; larges...   \n",
       "3           0.7  really good use of space; one of the best in a...   \n",
       "4           0.8  best sounding audio; smokes the Samsung; massi...   \n",
       "\n",
       "  is_advertisement                          advertisement_explanation  \\\n",
       "0               No  The transcript does not contain any explicit s...   \n",
       "1              Yes  The transcript contains a clear sponsorship se...   \n",
       "2               No  The transcript does not contain any explicit s...   \n",
       "3               No  The transcript does not contain any explicit s...   \n",
       "4              Yes  The transcript explicitly mentions a sponsor, ...   \n",
       "\n",
       "                               sentiment_explanation  \n",
       "0  The transcript expresses a generally positive ...  \n",
       "1  The transcript expresses a generally positive ...  \n",
       "2  The transcript expresses a generally positive ...  \n",
       "3  The transcript expresses a generally positive ...  \n",
       "4  The transcript contains a lot of positive comp...  "
      ]
     },
     "execution_count": 4,
     "metadata": {},
     "output_type": "execute_result"
    }
   ],
   "source": [
    "df = pd.read_csv(\"sentiment_results/sentiment_summary.csv\")\n",
    "df.head()"
   ]
  },
  {
   "cell_type": "code",
   "execution_count": 5,
   "id": "86ba7b68-44bf-42ae-bf6e-4371308257a6",
   "metadata": {},
   "outputs": [],
   "source": [
    "df['polarity'] = df['polarity'].astype(float)\n",
    "df['subjectivity'] = df['subjectivity'].astype(float)"
   ]
  },
  {
   "cell_type": "code",
   "execution_count": 6,
   "id": "67bd0ca8-6682-44d4-acde-b7758a249164",
   "metadata": {},
   "outputs": [
    {
     "data": {
      "image/png": "[encoded data removed]",
      "text/plain": [
       "<Figure size 1000x600 with 1 Axes>"
      ]
     },
     "metadata": {},
     "output_type": "display_data"
    }
   ],
   "source": [
    "plt.figure(figsize=(10, 6))\n",
    "sns.scatterplot(data=df, x='subjectivity', y='polarity', hue='overall_sentiment', palette='coolwarm')\n",
    "plt.title('Polarity vs Subjectivity')\n",
    "plt.xlabel('Subjectivity')\n",
    "plt.ylabel('Polarity')\n",
    "plt.axhline(0, color='gray', linestyle='--')\n",
    "plt.axvline(0.5, color='gray', linestyle='--')\n",
    "plt.grid(True)\n",
    "plt.tight_layout()\n",
    "plt.show()"
   ]
  },
  {
   "cell_type": "code",
   "execution_count": 7,
   "id": "e24ab4db-22d9-4fbe-a72c-950da917c942",
   "metadata": {},
   "outputs": [
    {
     "name": "stdout",
     "output_type": "stream",
     "text": [
      "Correlation between subjectivity and polarity: 0.55\n"
     ]
    }
   ],
   "source": [
    "correlation = df['subjectivity'].corr(df['polarity'])\n",
    "print(f\"Correlation between subjectivity and polarity: {correlation:.2f}\")"
   ]
  },
  {
   "cell_type": "code",
   "execution_count": null,
   "id": "07ca5dca-943d-40b4-8cb3-220bb61e7612",
   "metadata": {},
   "outputs": [],
   "source": []
  }
 ],
 "metadata": {
  "kernelspec": {
   "display_name": "Python 3 (ipykernel)",
   "language": "python",
   "name": "python3"
  },
  "language_info": {
   "codemirror_mode": {
    "name": "ipython",
    "version": 3
   },
   "file_extension": ".py",
   "mimetype": "text/x-python",
   "name": "python",
   "nbconvert_exporter": "python",
   "pygments_lexer": "ipython3",
   "version": "3.13.3"
  }
 },
 "nbformat": 4,
 "nbformat_minor": 5
}
